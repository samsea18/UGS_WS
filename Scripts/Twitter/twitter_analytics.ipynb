{
 "cells": [
  {
   "cell_type": "code",
   "execution_count": 1,
   "metadata": {},
   "outputs": [
    {
     "name": "stdout",
     "output_type": "stream",
     "text": [
      "Total no. of Tweets collected: \n",
      "REST         77780\n",
      "STREAMING      236\n",
      "Name: API, dtype: int64\n",
      "Total no. of USABLE Tweets collected: 8993\n"
     ]
    }
   ],
   "source": [
    "import pymongo\n",
    "import pandas as pd\n",
    "from pymongo import MongoClient\n",
    "import matplotlib.pyplot as plt\n",
    "import datetime as dt\n",
    "import time\n",
    "import numpy as np\n",
    "import os\n",
    "from os import path\n",
    "\n",
    "#Get data directory\n",
    "d = path.dirname(__file__) if \"__file__\" in locals() else os.getcwd()\n",
    "\n",
    "#Establish database connection\n",
    "client = MongoClient()\n",
    "db = client.webScience\n",
    "\n",
    "#Convert collection to dataframe for processing\n",
    "col1 = db.twitterCol\n",
    "set1 = pd.DataFrame(list(col1.find()))\n",
    "\n",
    "#Conversion of date to UTC+8 (Singapore Time)\n",
    "set1['created_at'] = ((pd.to_datetime(set1['created_at'], errors='coerce'))\\\n",
    "                        .dt.tz_localize('UTC').dt.tz_convert('Asia/Singapore'))\\\n",
    "                        .dt.strftime('%Y-%m-%d %H:%M:%S')\n",
    "\n",
    "#Filter data that falls within the duration of running the twitter_crawler.py script\n",
    "windowTime = (set1['created_at'] >= '2018-11-17 22:30:00') & (set1['created_at'] <= '2018-11-17 23:30:00')\n",
    "data = (pd.DataFrame(set1.loc[windowTime])).reset_index(drop=True)\n",
    "\n",
    "totalCollected = set1.API.value_counts()\n",
    "\n",
    "print(f\"Total no. of Tweets collected: \\n{totalCollected}\")\n",
    "print(f\"Total no. of USABLE Tweets collected: {len(data)}\")"
   ]
  },
  {
   "cell_type": "code",
   "execution_count": 2,
   "metadata": {},
   "outputs": [
    {
     "name": "stdout",
     "output_type": "stream",
     "text": [
      "Total no. of geo-tagged enabled users in Singapore: 441\n"
     ]
    }
   ],
   "source": [
    "trueCounter = 0\n",
    "falseCounter = 0\n",
    "\n",
    "for x in range(len(data)) :\n",
    "    try:\n",
    "        y = data['place'][x]['country_code']\n",
    "    except TypeError:\n",
    "        y = \"NA\"\n",
    "    \n",
    "    if data['user'][x]['geo_enabled'] and y == \"SG\":\n",
    "        trueCounter += 1\n",
    "    else :\n",
    "        falseCounter += 1\n",
    "        \n",
    "print(f\"Total no. of geo-tagged enabled users in Singapore: {trueCounter}\")"
   ]
  },
  {
   "cell_type": "code",
   "execution_count": 3,
   "metadata": {},
   "outputs": [
    {
     "name": "stdout",
     "output_type": "stream",
     "text": [
      "Total no. of duplicated tweets: 205\n"
     ]
    }
   ],
   "source": [
    "z = data['id_str'].duplicated()\n",
    "dupCount = z[z == True].count()\n",
    "\n",
    "print(f\"Total no. of duplicated tweets: {dupCount}\")"
   ]
  },
  {
   "cell_type": "code",
   "execution_count": 4,
   "metadata": {},
   "outputs": [
    {
     "name": "stdout",
     "output_type": "stream",
     "text": [
      "Total no. of retweets: 6047\n",
      "Total no. of quotes: 1286\n"
     ]
    }
   ],
   "source": [
    "w = data['retweeted_status'].notnull()\n",
    "retweets = w[w == True].count()\n",
    "\n",
    "q = data['is_quote_status']\n",
    "quotes = q[q == True].count()\n",
    "\n",
    "print(f\"Total no. of retweets: {retweets}\")\n",
    "print(f\"Total no. of quotes: {quotes}\")"
   ]
  },
  {
   "cell_type": "code",
   "execution_count": 5,
   "metadata": {},
   "outputs": [
    {
     "data": {
      "image/png": "[encoded data removed]",
      "text/plain": [
       "<Figure size 432x288 with 1 Axes>"
      ]
     },
     "metadata": {
      "needs_background": "light"
     },
     "output_type": "display_data"
    }
   ],
   "source": [
    "x = (pd.to_datetime((data['created_at']), errors='coerce'))\n",
    "\n",
    "newTimeStamp=[]\n",
    "for timeStamp in x:\n",
    "    convertTimeStamp = str(timeStamp).split(\" \")\n",
    "    ts = convertTimeStamp[1].split(\":\")\n",
    "    tempTS = int(ts[0] + ts[1])\n",
    "    if (tempTS >= 2230 and tempTS <= 2240):\n",
    "        newTimeStamp.append(10)\n",
    "    elif (tempTS >= 2241 and tempTS <= 2250):\n",
    "        newTimeStamp.append(20)\n",
    "    elif (tempTS >= 2251 and tempTS <= 2300):\n",
    "        newTimeStamp.append(30)\n",
    "    elif (tempTS >= 2301 and tempTS <= 2310):\n",
    "        newTimeStamp.append(40)\n",
    "    elif (tempTS >= 2311 and tempTS <= 2320):\n",
    "        newTimeStamp.append(50)\n",
    "    else:\n",
    "        newTimeStamp.append(60)   \n",
    "\n",
    "\n",
    "plt.hist(newTimeStamp, bins=6, alpha=0.7)\n",
    "plt.title(label=\"Total Usable Data Collected\")\n",
    "plt.xlabel(\"Time Interval (mins)\")\n",
    "plt.ylabel(\"Frequency\")\n",
    "\n",
    "# store to file\n",
    "plt.savefig('Total Usable Data Collected.png')\n",
    "\n",
    "plt.show()"
   ]
  },
  {
   "cell_type": "code",
   "execution_count": 6,
   "metadata": {},
   "outputs": [
    {
     "data": {
      "image/png": "[encoded data removed]",
      "text/plain": [
       "<Figure size 432x288 with 1 Axes>"
      ]
     },
     "metadata": {
      "needs_background": "light"
     },
     "output_type": "display_data"
    }
   ],
   "source": [
    "def geo(x):\n",
    "    return x['geo_enabled']\n",
    "\n",
    "u = map(geo, data['user'])\n",
    "g1 = pd.DataFrame({'created_at':x, 'Geo_tagged':list(u)}, columns=['created_at', 'Geo_tagged'])\n",
    "\n",
    "g2 = g1[g1.Geo_tagged == True].reset_index(drop=True).drop(columns='Geo_tagged')\n",
    "g3 = pd.Series(g2['created_at'].values)\n",
    "\n",
    "newTimeStamp=[]\n",
    "for timeStamp in g3:\n",
    "    convertTimeStamp = str(timeStamp).split(\" \")\n",
    "    ts = convertTimeStamp[1].split(\":\")\n",
    "    tempTS = int(ts[0] + ts[1])\n",
    "    if (tempTS >= 2230 and tempTS <= 2240):\n",
    "        newTimeStamp.append(10)\n",
    "    elif (tempTS >= 2241 and tempTS <= 2250):\n",
    "        newTimeStamp.append(20)\n",
    "    elif (tempTS >= 2251 and tempTS <= 2300):\n",
    "        newTimeStamp.append(30)\n",
    "    elif (tempTS >= 2301 and tempTS <= 2310):\n",
    "        newTimeStamp.append(40)\n",
    "    elif (tempTS >= 2311 and tempTS <= 2320):\n",
    "        newTimeStamp.append(50)\n",
    "    else:\n",
    "        newTimeStamp.append(60)  \n",
    "\n",
    "\n",
    "plt.hist(newTimeStamp, bins=6, alpha=0.7)\n",
    "plt.title(label=\"Total Geo-tagged data\")\n",
    "plt.xlabel(\"Time Interval (mins)\")\n",
    "plt.ylabel(\"Frequency\")\n",
    "\n",
    "# store to file\n",
    "plt.savefig('Total Geo-tagged.png')\n",
    "\n",
    "plt.show()"
   ]
  },
  {
   "cell_type": "code",
   "execution_count": 7,
   "metadata": {
    "scrolled": true
   },
   "outputs": [
    {
     "data": {
      "image/png": "[encoded data removed]",
      "text/plain": [
       "<Figure size 432x288 with 1 Axes>"
      ]
     },
     "metadata": {
      "needs_background": "light"
     },
     "output_type": "display_data"
    }
   ],
   "source": [
    "x = (pd.to_datetime((data['created_at']), errors='coerce'))\n",
    "\n",
    "newTimeStamp=[]\n",
    "for timeStamp in x:\n",
    "    convertTimeStamp = str(timeStamp).split(\" \")\n",
    "    ts = convertTimeStamp[1].split(\":\")\n",
    "    tempTS = int(ts[0] + ts[1])\n",
    "    if (tempTS >= 2230 and tempTS <= 2240):\n",
    "        newTimeStamp.append(10)\n",
    "    elif (tempTS >= 2241 and tempTS <= 2250):\n",
    "        newTimeStamp.append(20)\n",
    "    elif (tempTS >= 2251 and tempTS <= 2300):\n",
    "        newTimeStamp.append(30)\n",
    "    elif (tempTS >= 2301 and tempTS <= 2310):\n",
    "        newTimeStamp.append(40)\n",
    "    elif (tempTS >= 2311 and tempTS <= 2320):\n",
    "        newTimeStamp.append(50)\n",
    "    else:\n",
    "        newTimeStamp.append(60)   \n",
    "\n",
    "plt.hist(newTimeStamp, bins=6, alpha=0.7, label='Collected Data')\n",
    "\n",
    "\n",
    "g4 = pd.DataFrame({'created_at':x, 'isDuplicate':z}, columns=['created_at', 'isDuplicate'])\n",
    "g4['isDuplicate'] = z\n",
    "g5 = g4[g4.isDuplicate == True].reset_index(drop=True).drop(columns='isDuplicate')\n",
    "g6 = pd.Series(g5['created_at'].values)\n",
    "\n",
    "newTimeStamp2=[]\n",
    "for timeStamp in g6:\n",
    "    convertTimeStamp = str(timeStamp).split(\" \")\n",
    "    ts = convertTimeStamp[1].split(\":\")\n",
    "    tempTS = int(ts[0] + ts[1])\n",
    "    if (tempTS >= 2230 and tempTS <= 2240):\n",
    "        newTimeStamp2.append(10)\n",
    "    elif (tempTS >= 2241 and tempTS <= 2250):\n",
    "        newTimeStamp2.append(20)\n",
    "    elif (tempTS >= 2251 and tempTS <= 2300):\n",
    "        newTimeStamp2.append(30)\n",
    "    elif (tempTS >= 2301 and tempTS <= 2310):\n",
    "        newTimeStamp2.append(40)\n",
    "    elif (tempTS >= 2311 and tempTS <= 2320):\n",
    "        newTimeStamp2.append(50)\n",
    "    else:\n",
    "        newTimeStamp2.append(60) \n",
    "\n",
    "plt.hist(newTimeStamp2, bins=6, alpha=0.7, label='Redundant Data')\n",
    "\n",
    "\n",
    "plt.title(label=\"Collected Data VS Redundant Data\")\n",
    "plt.xlabel(\"Time Interval (mins)\")\n",
    "plt.ylabel(\"Frequency\")\n",
    "plt.legend(loc='upper right')\n",
    "\n",
    "# store to file\n",
    "plt.savefig('Total Redundant Data.png')\n",
    "\n",
    "plt.show()"
   ]
  },
  {
   "cell_type": "code",
   "execution_count": 8,
   "metadata": {},
   "outputs": [
    {
     "data": {
      "image/png": "[encoded data removed]",
      "text/plain": [
       "<Figure size 432x288 with 1 Axes>"
      ]
     },
     "metadata": {
      "needs_background": "light"
     },
     "output_type": "display_data"
    }
   ],
   "source": [
    "g7 = pd.DataFrame({'created_at':x, 'isRetweet':w}, columns=['created_at', 'isRetweet'])\n",
    "g8 = g7[g7.isRetweet == True].reset_index(drop=True).drop(columns='isRetweet')\n",
    "g9 = pd.Series(g8['created_at'].values)\n",
    "\n",
    "newTimeStamp1=[]\n",
    "for timeStamp in g9:\n",
    "    convertTimeStamp = str(timeStamp).split(\" \")\n",
    "    ts = convertTimeStamp[1].split(\":\")\n",
    "    tempTS = int(ts[0] + ts[1])\n",
    "    if (tempTS >= 2230 and tempTS <= 2240):\n",
    "        newTimeStamp1.append(10)\n",
    "    elif (tempTS >= 2241 and tempTS <= 2250):\n",
    "        newTimeStamp1.append(20)\n",
    "    elif (tempTS >= 2251 and tempTS <= 2300):\n",
    "        newTimeStamp1.append(30)\n",
    "    elif (tempTS >= 2301 and tempTS <= 2310):\n",
    "        newTimeStamp1.append(40)\n",
    "    elif (tempTS >= 2311 and tempTS <= 2320):\n",
    "        newTimeStamp1.append(50)\n",
    "    else:\n",
    "        newTimeStamp1.append(60) \n",
    "\n",
    "plt.hist(newTimeStamp1, bins=6, alpha=0.7, label='Retweets')\n",
    "\n",
    "\n",
    "g10 = pd.DataFrame({'created_at':x, 'isQuote':q}, columns=['created_at', 'isQuote'])\n",
    "g11 = g10[g10.isQuote == True].reset_index(drop=True).drop(columns='isQuote')\n",
    "g12 = pd.Series(g11['created_at'].values)\n",
    "\n",
    "newTimeStamp2=[]\n",
    "for timeStamp in g12:\n",
    "    convertTimeStamp = str(timeStamp).split(\" \")\n",
    "    ts = convertTimeStamp[1].split(\":\")\n",
    "    tempTS = int(ts[0] + ts[1])\n",
    "    if (tempTS >= 2230 and tempTS <= 2240):\n",
    "        newTimeStamp2.append(10)\n",
    "    elif (tempTS >= 2241 and tempTS <= 2250):\n",
    "        newTimeStamp2.append(20)\n",
    "    elif (tempTS >= 2251 and tempTS <= 2300):\n",
    "        newTimeStamp2.append(30)\n",
    "    elif (tempTS >= 2301 and tempTS <= 2310):\n",
    "        newTimeStamp2.append(40)\n",
    "    elif (tempTS >= 2311 and tempTS <= 2320):\n",
    "        newTimeStamp2.append(50)\n",
    "    else:\n",
    "        newTimeStamp2.append(60) \n",
    "\n",
    "plt.hist(newTimeStamp2, bins=6, alpha=0.7, label='Quotes')\n",
    "\n",
    "plt.legend(loc='upper right')\n",
    "plt.title(label=\"Retweets & Quotes\")\n",
    "plt.xlabel(\"Time Interval (mins)\")\n",
    "plt.ylabel(\"Frequency\")\n",
    "\n",
    "# store to file\n",
    "plt.savefig('Retweets and Quotes.png')\n",
    "\n",
    "plt.show()"
   ]
  },
  {
   "cell_type": "code",
   "execution_count": 9,
   "metadata": {},
   "outputs": [
    {
     "data": {
      "image/png": "[encoded data removed]",
      "text/plain": [
       "<Figure size 432x288 with 1 Axes>"
      ]
     },
     "metadata": {
      "needs_background": "light"
     },
     "output_type": "display_data"
    }
   ],
   "source": [
    "test = data.Trend_group.value_counts().plot(kind='barh')\n",
    "plt.title(label=\"Grouping of Tweets\")\n",
    "plt.xlabel(\"Frequency\")\n",
    "plt.ylabel(\"Topics\")\n",
    "\n",
    "# store to file\n",
    "plt.savefig('Grouping of Tweets.png')"
   ]
  },
  {
   "cell_type": "code",
   "execution_count": 10,
   "metadata": {},
   "outputs": [
    {
     "data": {
      "text/plain": [
       "Others        8784\n",
       "asia            84\n",
       "malaysia        35\n",
       "japan           29\n",
       "btob            22\n",
       "got7             9\n",
       "apec             5\n",
       "khashoggi        4\n",
       "california       4\n",
       "trade            4\n",
       "atpfinals        3\n",
       "hongkong         2\n",
       "innovation       2\n",
       "brexit           2\n",
       "australia        2\n",
       "beijing          1\n",
       "trump            1\n",
       "Name: Trend_group, dtype: int64"
      ]
     },
     "execution_count": 10,
     "metadata": {},
     "output_type": "execute_result"
    }
   ],
   "source": [
    "data.Trend_group.value_counts()"
   ]
  },
  {
   "cell_type": "code",
   "execution_count": null,
   "metadata": {},
   "outputs": [],
   "source": []
  }
 ],
 "metadata": {
  "kernelspec": {
   "display_name": "Python 3",
   "language": "python",
   "name": "python3"
  },
  "language_info": {
   "codemirror_mode": {
    "name": "ipython",
    "version": 3
   },
   "file_extension": ".py",
   "mimetype": "text/x-python",
   "name": "python",
   "nbconvert_exporter": "python",
   "pygments_lexer": "ipython3",
   "version": "3.6.7"
  }
 },
 "nbformat": 4,
 "nbformat_minor": 2
}
